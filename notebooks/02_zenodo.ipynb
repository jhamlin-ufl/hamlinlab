{
 "cells": [
  {
   "cell_type": "code",
   "execution_count": 23,
   "id": "001121bb-e64d-44dc-828a-6aa6c86da3b7",
   "metadata": {
    "tags": []
   },
   "outputs": [],
   "source": [
    "import os\n",
    "import requests\n",
    "from pathlib import Path"
   ]
  },
  {
   "cell_type": "code",
   "execution_count": 2,
   "id": "8dda4e61-feba-4f3c-91e6-312a84c02de9",
   "metadata": {
    "tags": []
   },
   "outputs": [],
   "source": [
    "ACCESS_TOKEN = os.getenv('ZENODO_SANDBOX_TOKEN')"
   ]
  },
  {
   "cell_type": "code",
   "execution_count": 3,
   "id": "eb9808cd-b114-4bf7-b336-21adde5d0f91",
   "metadata": {
    "tags": []
   },
   "outputs": [
    {
     "data": {
      "text/plain": [
       "'isEWTjMiA0qRIf79ADcXreuvbnhyhy5FjxSV8FN5GBwecdBPDdYxaVj6uKl3'"
      ]
     },
     "execution_count": 3,
     "metadata": {},
     "output_type": "execute_result"
    }
   ],
   "source": [
    "ACCESS_TOKEN"
   ]
  },
  {
   "cell_type": "code",
   "execution_count": 4,
   "id": "32016cf9-8849-4cde-a8f5-0f1ad3ef4521",
   "metadata": {
    "tags": []
   },
   "outputs": [
    {
     "data": {
      "text/plain": [
       "{'message': \"The server could not verify that you are authorized to access the URL requested. You either supplied the wrong credentials (e.g. a bad password), or your browser doesn't understand how to supply the credentials required.\",\n",
       " 'status': 401}"
      ]
     },
     "execution_count": 4,
     "metadata": {},
     "output_type": "execute_result"
    }
   ],
   "source": [
    "r = requests.get(\"https://sandbox.zenodo.org/api/deposit/depositions\")\n",
    "r.status_code\n",
    "r.json()"
   ]
  },
  {
   "cell_type": "code",
   "execution_count": 11,
   "id": "dc178f00-796e-4d50-ba05-28d7161b0b74",
   "metadata": {
    "tags": []
   },
   "outputs": [],
   "source": [
    "headers = {\"Content-Type\": \"application/json\"}\n",
    "params = {'access_token': ACCESS_TOKEN}"
   ]
  },
  {
   "cell_type": "code",
   "execution_count": 18,
   "id": "71052192-56fc-4789-95f5-200b1bfd731c",
   "metadata": {
    "tags": []
   },
   "outputs": [],
   "source": [
    "r = requests.post(\n",
    "    \"https://sandbox.zenodo.org/api/deposit/depositions\",\n",
    "    params=params,\n",
    "    json={},\n",
    "    headers=headers\n",
    ")"
   ]
  },
  {
   "cell_type": "code",
   "execution_count": 19,
   "id": "a83cc63a-09fe-4e5e-90c5-f38d31b10a07",
   "metadata": {
    "tags": []
   },
   "outputs": [
    {
     "data": {
      "text/plain": [
       "{'conceptrecid': '1181161',\n",
       " 'created': '2023-04-05T18:40:50.148330+00:00',\n",
       " 'files': [],\n",
       " 'id': 1181162,\n",
       " 'links': {'bucket': 'https://sandbox.zenodo.org/api/files/8da3f006-ae56-4b6b-bf55-dcbd7b088ffb',\n",
       "  'discard': 'https://sandbox.zenodo.org/api/deposit/depositions/1181162/actions/discard',\n",
       "  'edit': 'https://sandbox.zenodo.org/api/deposit/depositions/1181162/actions/edit',\n",
       "  'files': 'https://sandbox.zenodo.org/api/deposit/depositions/1181162/files',\n",
       "  'html': 'https://sandbox.zenodo.org/deposit/1181162',\n",
       "  'latest_draft': 'https://sandbox.zenodo.org/api/deposit/depositions/1181162',\n",
       "  'latest_draft_html': 'https://sandbox.zenodo.org/deposit/1181162',\n",
       "  'publish': 'https://sandbox.zenodo.org/api/deposit/depositions/1181162/actions/publish',\n",
       "  'self': 'https://sandbox.zenodo.org/api/deposit/depositions/1181162'},\n",
       " 'metadata': {'prereserve_doi': {'doi': '10.5072/zenodo.1181162',\n",
       "   'recid': 1181162}},\n",
       " 'modified': '2023-04-05T18:40:50.148354+00:00',\n",
       " 'owner': 143382,\n",
       " 'record_id': 1181162,\n",
       " 'state': 'unsubmitted',\n",
       " 'submitted': False,\n",
       " 'title': ''}"
      ]
     },
     "execution_count": 19,
     "metadata": {},
     "output_type": "execute_result"
    }
   ],
   "source": [
    "r.json()"
   ]
  },
  {
   "cell_type": "code",
   "execution_count": 31,
   "id": "ded209e5-b9b0-4773-9946-1e2d84a699d0",
   "metadata": {},
   "outputs": [],
   "source": [
    "file_path = Path('../data/zenodo.zip')\n",
    "bucket_url = r.json()['links']['bucket']"
   ]
  },
  {
   "cell_type": "code",
   "execution_count": 32,
   "id": "84712a0a-c646-47af-bbc8-6ae36469c07c",
   "metadata": {
    "tags": []
   },
   "outputs": [
    {
     "data": {
      "text/plain": [
       "{'mimetype': 'application/zip',\n",
       " 'updated': '2023-04-05T18:55:13.481370+00:00',\n",
       " 'links': {'self': 'https://sandbox.zenodo.org/api/files/8da3f006-ae56-4b6b-bf55-dcbd7b088ffb/zenodo.zip',\n",
       "  'version': 'https://sandbox.zenodo.org/api/files/8da3f006-ae56-4b6b-bf55-dcbd7b088ffb/zenodo.zip?versionId=0ab57df0-99a0-4da1-90f6-680cd54d682c',\n",
       "  'uploads': 'https://sandbox.zenodo.org/api/files/8da3f006-ae56-4b6b-bf55-dcbd7b088ffb/zenodo.zip?uploads'},\n",
       " 'is_head': True,\n",
       " 'created': '2023-04-05T18:55:13.468709+00:00',\n",
       " 'checksum': 'md5:7105c7f5233bf5d33be5bc88f14f6937',\n",
       " 'version_id': '0ab57df0-99a0-4da1-90f6-680cd54d682c',\n",
       " 'delete_marker': False,\n",
       " 'key': 'zenodo.zip',\n",
       " 'size': 553}"
      ]
     },
     "execution_count": 32,
     "metadata": {},
     "output_type": "execute_result"
    }
   ],
   "source": [
    "with open(file_path, 'rb') as fp:\n",
    "    r = requests.put(\n",
    "        f'{bucket_url}/{file_path.name}',\n",
    "        data=fp,\n",
    "        params=params\n",
    "    )\n",
    "    \n",
    "r.json()"
   ]
  },
  {
   "cell_type": "code",
   "execution_count": null,
   "id": "5f4dbce3-b29a-4db2-b8ae-0b8720f33fe0",
   "metadata": {},
   "outputs": [],
   "source": []
  }
 ],
 "metadata": {
  "kernelspec": {
   "display_name": "Python 3 (ipykernel)",
   "language": "python",
   "name": "python3"
  },
  "language_info": {
   "codemirror_mode": {
    "name": "ipython",
    "version": 3
   },
   "file_extension": ".py",
   "mimetype": "text/x-python",
   "name": "python",
   "nbconvert_exporter": "python",
   "pygments_lexer": "ipython3",
   "version": "3.9.2"
  }
 },
 "nbformat": 4,
 "nbformat_minor": 5
}
