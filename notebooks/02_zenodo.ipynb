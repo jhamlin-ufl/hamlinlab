{
 "cells": [
  {
   "cell_type": "code",
   "execution_count": null,
   "id": "001121bb-e64d-44dc-828a-6aa6c86da3b7",
   "metadata": {
    "tags": []
   },
   "outputs": [],
   "source": [
    "import os\n",
    "import requests\n",
    "from pathlib import Path"
   ]
  },
  {
   "cell_type": "code",
   "execution_count": null,
   "id": "8dda4e61-feba-4f3c-91e6-312a84c02de9",
   "metadata": {
    "tags": []
   },
   "outputs": [],
   "source": [
    "ACCESS_TOKEN = os.getenv('ZENODO_SANDBOX_TOKEN')"
   ]
  },
  {
   "cell_type": "code",
   "execution_count": null,
   "id": "eb9808cd-b114-4bf7-b336-21adde5d0f91",
   "metadata": {
    "tags": []
   },
   "outputs": [],
   "source": [
    "ACCESS_TOKEN"
   ]
  },
  {
   "cell_type": "code",
   "execution_count": null,
   "id": "32016cf9-8849-4cde-a8f5-0f1ad3ef4521",
   "metadata": {
    "tags": []
   },
   "outputs": [],
   "source": [
    "r = requests.get(\"https://sandbox.zenodo.org/api/deposit/depositions\")\n",
    "r.status_code\n",
    "r.json()"
   ]
  },
  {
   "cell_type": "code",
   "execution_count": null,
   "id": "dc178f00-796e-4d50-ba05-28d7161b0b74",
   "metadata": {
    "tags": []
   },
   "outputs": [],
   "source": [
    "headers = {\"Content-Type\": \"application/json\"}\n",
    "params = {'access_token': ACCESS_TOKEN}"
   ]
  },
  {
   "cell_type": "code",
   "execution_count": null,
   "id": "71052192-56fc-4789-95f5-200b1bfd731c",
   "metadata": {
    "tags": []
   },
   "outputs": [],
   "source": [
    "r = requests.post(\n",
    "    \"https://sandbox.zenodo.org/api/deposit/depositions\",\n",
    "    params=params,\n",
    "    json={},\n",
    "    headers=headers\n",
    ")"
   ]
  },
  {
   "cell_type": "code",
   "execution_count": null,
   "id": "a83cc63a-09fe-4e5e-90c5-f38d31b10a07",
   "metadata": {
    "tags": []
   },
   "outputs": [],
   "source": [
    "r.json()"
   ]
  },
  {
   "cell_type": "code",
   "execution_count": null,
   "id": "ded209e5-b9b0-4773-9946-1e2d84a699d0",
   "metadata": {},
   "outputs": [],
   "source": [
    "file_path = Path('../data/zenodo.zip')\n",
    "bucket_url = r.json()['links']['bucket']"
   ]
  },
  {
   "cell_type": "code",
   "execution_count": null,
   "id": "84712a0a-c646-47af-bbc8-6ae36469c07c",
   "metadata": {
    "tags": []
   },
   "outputs": [],
   "source": [
    "with open(file_path, 'rb') as fp:\n",
    "    r = requests.put(\n",
    "        f'{bucket_url}/{file_path.name}',\n",
    "        data=fp,\n",
    "        params=params\n",
    "    )\n",
    "    \n",
    "r.json()"
   ]
  },
  {
   "cell_type": "code",
   "execution_count": null,
   "id": "5f4dbce3-b29a-4db2-b8ae-0b8720f33fe0",
   "metadata": {},
   "outputs": [],
   "source": []
  }
 ],
 "metadata": {
  "kernelspec": {
   "display_name": "Python 3 (ipykernel)",
   "language": "python",
   "name": "python3"
  },
  "language_info": {
   "codemirror_mode": {
    "name": "ipython",
    "version": 3
   },
   "file_extension": ".py",
   "mimetype": "text/x-python",
   "name": "python",
   "nbconvert_exporter": "python",
   "pygments_lexer": "ipython3",
   "version": "3.9.2"
  }
 },
 "nbformat": 4,
 "nbformat_minor": 5
}
